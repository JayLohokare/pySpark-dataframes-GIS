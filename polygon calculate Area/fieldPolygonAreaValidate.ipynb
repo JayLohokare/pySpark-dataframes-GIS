{
 "cells": [
  {
   "cell_type": "code",
   "execution_count": 1,
   "metadata": {},
   "outputs": [],
   "source": [
    "#Uses Shapely and Spark datadrame UDFs to calculate Acreage per field\n",
    "from shapely.geometry import shape\n",
    "from shapely.ops import transform\n",
    "import pyspark.sql.functions as pys\n",
    "from pyspark.sql.types import DoubleType, StringType, FloatType\n",
    "from shapely.geometry.multipolygon import MultiPolygon\n",
    "from shapely import wkt\n",
    "from functools import partial\n",
    "import pyproj\n",
    "from shapely.ops import transform\n",
    "from pyspark.sql.functions import udf"
   ]
  },
  {
   "cell_type": "code",
   "execution_count": 2,
   "metadata": {},
   "outputs": [
    {
     "data": {
      "text/plain": [
       "100"
      ]
     },
     "execution_count": 2,
     "metadata": {},
     "output_type": "execute_result"
    }
   ],
   "source": [
    "#Read Fields data here\n",
    "df = sqlContext.read.json(\"/Users/jay_lohokare/Desktop/data/fields_min/*.json\")\n",
    "df.count()"
   ]
  },
  {
   "cell_type": "code",
   "execution_count": 3,
   "metadata": {},
   "outputs": [],
   "source": [
    "#Remove unwanted data from memory - Replace df in place\n",
    "# df.printSchema()\n",
    "df = df.select('field.boundary_map.boundary', 'field.boundary_map.area', 'field.id')\n"
   ]
  },
  {
   "cell_type": "code",
   "execution_count": 4,
   "metadata": {},
   "outputs": [
    {
     "name": "stdout",
     "output_type": "stream",
     "text": [
      "root\n",
      " |-- boundary: string (nullable = true)\n",
      " |-- area: double (nullable = true)\n",
      " |-- id: string (nullable = true)\n",
      "\n"
     ]
    }
   ],
   "source": [
    "df.printSchema()"
   ]
  },
  {
   "cell_type": "code",
   "execution_count": 5,
   "metadata": {},
   "outputs": [
    {
     "name": "stdout",
     "output_type": "stream",
     "text": [
      "+--------------------+-----------------+--------------------+\n",
      "|            boundary|             area|                  id|\n",
      "+--------------------+-----------------+--------------------+\n",
      "|MULTIPOLYGON (((-...| 264.255320466716|0002c048-6458-42c...|\n",
      "|MULTIPOLYGON (((-...|134.6697950943768|0008a146-6e9d-444...|\n",
      "|MULTIPOLYGON (((-...|84.27592550818439|00037e5e-e622-46c...|\n",
      "|MULTIPOLYGON (((-...|121.8597418598638|00016eb5-58c7-4c0...|\n",
      "|MULTIPOLYGON (((-...|66.37186503375712|00049b91-a69c-4dc...|\n",
      "|MULTIPOLYGON (((-...|33.44286858832247|00099882-327e-4ce...|\n",
      "|MULTIPOLYGON (((-...|55.29469330580098|0005e9cd-c8cb-11e...|\n",
      "|MULTIPOLYGON (((-...|178.8495719683028|00068bf1-71bb-46d...|\n",
      "|MULTIPOLYGON (((-...|24.40396587516312|00080061-0a79-4dd...|\n",
      "|MULTIPOLYGON (((-...| 60.2521407292888|00061b3c-613d-490...|\n",
      "|MULTIPOLYGON (((-...|51.39521819118318|000844dd-18f0-11e...|\n",
      "|MULTIPOLYGON (((-...|39.55388604634178|0003e2d4-886a-429...|\n",
      "|MULTIPOLYGON (((-...|28.11350183609296|000803a0-a882-488...|\n",
      "|MULTIPOLYGON (((-...|56.60475015445559|0002423a-7b0a-439...|\n",
      "|MULTIPOLYGON (((-...|  9.0202347907978|00009fc5-a760-45a...|\n",
      "|MULTIPOLYGON (((-...| 25.4103028255782|0003d08c-1108-44c...|\n",
      "|MULTIPOLYGON (((-...|82.89013120855982|00030532-0cc6-11e...|\n",
      "|MULTIPOLYGON (((-...|278.6283236133423|000621a9-d859-484...|\n",
      "|MULTIPOLYGON (((-...|54.91015752174761|000514bf-52dd-41a...|\n",
      "|MULTIPOLYGON (((-...|9.678924411441011|000820cc-c6aa-11e...|\n",
      "+--------------------+-----------------+--------------------+\n",
      "only showing top 20 rows\n",
      "\n"
     ]
    },
    {
     "data": {
      "text/plain": [
       "100"
      ]
     },
     "execution_count": 5,
     "metadata": {},
     "output_type": "execute_result"
    }
   ],
   "source": [
    "df.show()\n",
    "df.count()"
   ]
  },
  {
   "cell_type": "code",
   "execution_count": 6,
   "metadata": {},
   "outputs": [
    {
     "data": {
      "text/plain": [
       "80"
      ]
     },
     "execution_count": 6,
     "metadata": {},
     "output_type": "execute_result"
    }
   ],
   "source": [
    "#Filtering out Fields without boundary data\n",
    "df = df.filter(\"boundary is not NULL\")\n",
    "df = df.filter(df.boundary!='MULTIPOLYGON EMPTY')\n",
    "df.count()\n"
   ]
  },
  {
   "cell_type": "code",
   "execution_count": 7,
   "metadata": {},
   "outputs": [],
   "source": [
    "#Function to convert MultiPoly to Area in Acre\n",
    "def getAreaOfMultiPoly(columnElement):\n",
    "    try:\n",
    "        s = unicode(str(columnElement), \"utf-8\")\n",
    "        p = wkt.loads(s)\n",
    "        m = MultiPolygon(p)\n",
    "        \n",
    "        project = partial(\n",
    "        pyproj.transform,\n",
    "        pyproj.Proj(init='epsg:4326'), # source coordinate system\n",
    "        pyproj.Proj(init='epsg:26913')) # destination coordinate system\n",
    "\n",
    "        m2 = transform(project, m)\n",
    "        return m2.area/4046.86\n",
    "    except:\n",
    "        return 0"
   ]
  },
  {
   "cell_type": "code",
   "execution_count": 8,
   "metadata": {},
   "outputs": [],
   "source": [
    "#Function to calculate % difference in area calculated and area in JSON\n",
    "def calculateDifferencePercentageInArea(area, areaCalculated):\n",
    "    return (area-areaCalculated)*100/areaCalculated\n",
    "    "
   ]
  },
  {
   "cell_type": "code",
   "execution_count": 9,
   "metadata": {},
   "outputs": [],
   "source": [
    "#Calculation functions are called on data here\n",
    "getAreaOfMultiPoly_udf = udf(lambda z: getAreaOfMultiPoly(z), DoubleType())\n",
    "getAreaDifferencePercentage = udf(lambda (x,y): calculateDifferencePercentageInArea(float(x),float(y)), DoubleType())\n",
    "\n",
    "df = df.select(\"boundary\", \"area\", \"id\", getAreaOfMultiPoly_udf(\"boundary\").alias(\"areaCalculated\"))\n",
    "df = df.select(\"boundary\", \"area\", \"id\", \"areaCalculated\", pys.abs(calculateDifferencePercentageInArea(df.area, df.areaCalculated)).alias(\"percentageDifference\"))"
   ]
  },
  {
   "cell_type": "code",
   "execution_count": 10,
   "metadata": {},
   "outputs": [
    {
     "name": "stdout",
     "output_type": "stream",
     "text": [
      "+--------------------+-----------------+--------------------+------------------+--------------------+\n",
      "|            boundary|             area|                  id|    areaCalculated|percentageDifference|\n",
      "+--------------------+-----------------+--------------------+------------------+--------------------+\n",
      "|MULTIPOLYGON (((-...| 264.255320466716|0002c048-6458-42c...|268.32633898152324|  1.5171893039868751|\n",
      "|MULTIPOLYGON (((-...|134.6697950943768|0008a146-6e9d-444...|139.31984324452614|  3.3376782817561996|\n",
      "|MULTIPOLYGON (((-...|84.27592550818439|00037e5e-e622-46c...|  91.7620761361809|   8.158218452780616|\n",
      "|MULTIPOLYGON (((-...|121.8597418598638|00016eb5-58c7-4c0...|122.43132802502753|  0.4668626685539819|\n",
      "|MULTIPOLYGON (((-...|66.37186503375712|00049b91-a69c-4dc...| 69.20161054494156|   4.089132447787066|\n",
      "|MULTIPOLYGON (((-...|33.44286858832247|00099882-327e-4ce...|38.875056133319525|   13.97345260767654|\n",
      "|MULTIPOLYGON (((-...|55.29469330580098|0005e9cd-c8cb-11e...| 57.53925610071283|  3.9009242507117436|\n",
      "|MULTIPOLYGON (((-...|178.8495719683028|00068bf1-71bb-46d...|194.84273640017358|   8.208242569034528|\n",
      "|MULTIPOLYGON (((-...|24.40396587516312|00080061-0a79-4dd...|  26.2608075427557|   7.070771394099064|\n",
      "|MULTIPOLYGON (((-...| 60.2521407292888|00061b3c-613d-490...|60.971046347143016|   1.179093456525378|\n",
      "|MULTIPOLYGON (((-...|51.39521819118318|000844dd-18f0-11e...| 54.10925190256033|   5.015840389485639|\n",
      "|MULTIPOLYGON (((-...|39.55388604634178|0003e2d4-886a-429...| 42.40557456401768|   6.724796319811297|\n",
      "|MULTIPOLYGON (((-...|28.11350183609296|000803a0-a882-488...| 29.54729443809714|   4.852534315817091|\n",
      "|MULTIPOLYGON (((-...|56.60475015445559|0002423a-7b0a-439...|  57.2288345146088|  1.0905068492944794|\n",
      "|MULTIPOLYGON (((-...|  9.0202347907978|00009fc5-a760-45a...| 9.398613087478807|   4.025895024714834|\n",
      "|MULTIPOLYGON (((-...| 25.4103028255782|0003d08c-1108-44c...|28.604370999946568|  11.166363960159567|\n",
      "|MULTIPOLYGON (((-...|82.89013120855982|00030532-0cc6-11e...| 87.83272357395202|   5.627278950573261|\n",
      "|MULTIPOLYGON (((-...|278.6283236133423|000621a9-d859-484...|294.55838425143855|  5.4081165194395515|\n",
      "|MULTIPOLYGON (((-...|54.91015752174761|000514bf-52dd-41a...|59.090814988474385|   7.074970056754527|\n",
      "|MULTIPOLYGON (((-...|9.678924411441011|000820cc-c6aa-11e...|11.337086184307019|  14.625996009109134|\n",
      "+--------------------+-----------------+--------------------+------------------+--------------------+\n",
      "only showing top 20 rows\n",
      "\n"
     ]
    }
   ],
   "source": [
    "df.show()"
   ]
  },
  {
   "cell_type": "code",
   "execution_count": 11,
   "metadata": {},
   "outputs": [
    {
     "name": "stdout",
     "output_type": "stream",
     "text": [
      "+--------------------+-----------------+--------------------+------------------+--------------------+\n",
      "|            boundary|             area|                  id|    areaCalculated|percentageDifference|\n",
      "+--------------------+-----------------+--------------------+------------------+--------------------+\n",
      "|MULTIPOLYGON (((-...|62.71070195529653|00065eb6-e80c-42d...| 75.41700947643952|  16.848065985846965|\n",
      "|MULTIPOLYGON (((-...|3.885518367439746|00053764-779a-4e4...| 4.582765449471536|    15.2145487199698|\n",
      "|MULTIPOLYGON (((-...|5.635780159205062|0006c04d-421b-497...| 6.641187698243527|  15.138971893602363|\n",
      "|MULTIPOLYGON (((-...|68.85053831693533|00042f18-1a71-11e...| 80.77034276443136|  14.757649948645668|\n",
      "|MULTIPOLYGON (((-...|3.745725217653795|00066dec-adc1-40f...| 4.388034833818856|  14.637751077424017|\n",
      "|MULTIPOLYGON (((-...|9.678924411441011|000820cc-c6aa-11e...|11.337086184307019|  14.625996009109134|\n",
      "|MULTIPOLYGON (((-...|2.872533651999968|00047884-019c-4f4...| 3.346020131628966|  14.150736128371333|\n",
      "|MULTIPOLYGON (((-...|33.44286858832247|00099882-327e-4ce...|38.875056133319525|   13.97345260767654|\n",
      "|MULTIPOLYGON (((-...|3.925189930755103|00056401-e65e-4d9...| 4.551674621872927|  13.763828550205934|\n",
      "|MULTIPOLYGON (((-...|7.396792705027968|000322fc-0da0-4ac...| 8.543359614513761|  13.420562415960635|\n",
      "|MULTIPOLYGON (((-...|4.909235515837929|0008a190-6538-4cc...| 5.662455393087314|  13.302001074814845|\n",
      "|MULTIPOLYGON (((-...|10.63114284081429|000788bc-9c82-11e...| 12.22597269425777|  13.044605066004534|\n",
      "|MULTIPOLYGON (((-...|6.126706090107246|00013cc0-db87-458...| 7.038727863616823|  12.957196118119827|\n",
      "|MULTIPOLYGON (((-...|12.56343900941881|0004a5c5-396c-11e...| 14.28749267449851|  12.066873484085376|\n",
      "|MULTIPOLYGON (((-...|21.10844791378865|000342d4-52c2-493...|23.990498065114995|  12.013298529709088|\n",
      "|MULTIPOLYGON (((-...|5.316521880189845|00078036-1452-4c3...|6.0414162697583995|  11.998749253501503|\n",
      "|MULTIPOLYGON (((-...| 25.4103028255782|0003d08c-1108-44c...|28.604370999946568|  11.166363960159567|\n",
      "|MULTIPOLYGON (((-...|21.51200212663458|00028271-5880-44f...| 24.16765038006436|  10.988442035806651|\n",
      "|MULTIPOLYGON (((-...|8.087928905201007|0009849d-1bc3-427...| 9.078726899059179|  10.913402340154622|\n",
      "+--------------------+-----------------+--------------------+------------------+--------------------+\n",
      "\n"
     ]
    },
    {
     "data": {
      "text/plain": [
       "DataFrame[boundary: string, area: double, id: string, areaCalculated: double, percentageDifference: double]"
      ]
     },
     "execution_count": 11,
     "metadata": {},
     "output_type": "execute_result"
    }
   ],
   "source": [
    "#Get fields with % acres difference more than 10%, sort Descending\n",
    "df.filter(\"`percentageDifference` >= 10\").sort('percentageDifference', ascending=False).show()\n",
    "df.select('*')"
   ]
  },
  {
   "cell_type": "code",
   "execution_count": null,
   "metadata": {},
   "outputs": [],
   "source": []
  },
  {
   "cell_type": "code",
   "execution_count": null,
   "metadata": {},
   "outputs": [],
   "source": []
  },
  {
   "cell_type": "code",
   "execution_count": null,
   "metadata": {},
   "outputs": [],
   "source": []
  }
 ],
 "metadata": {
  "kernelspec": {
   "display_name": "Python 2",
   "language": "python",
   "name": "python2"
  },
  "language_info": {
   "codemirror_mode": {
    "name": "ipython",
    "version": 2
   },
   "file_extension": ".py",
   "mimetype": "text/x-python",
   "name": "python",
   "nbconvert_exporter": "python",
   "pygments_lexer": "ipython2",
   "version": "2.7.15"
  }
 },
 "nbformat": 4,
 "nbformat_minor": 2
}
