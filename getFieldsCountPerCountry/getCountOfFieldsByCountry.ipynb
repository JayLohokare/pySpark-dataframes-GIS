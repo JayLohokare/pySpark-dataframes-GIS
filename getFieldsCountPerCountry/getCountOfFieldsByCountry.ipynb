{
 "cells": [
  {
   "cell_type": "code",
   "execution_count": 146,
   "metadata": {},
   "outputs": [],
   "source": [
    "from pyspark.sql.functions import desc"
   ]
  },
  {
   "cell_type": "code",
   "execution_count": 147,
   "metadata": {},
   "outputs": [],
   "source": [
    "# Paths to the data files\n",
    "country_dir = \"/Users/sheng_chen/Downloads/getFieldsCountPerCountry/countries/*.json\"\n",
    "fields_dir = \"/Users/sheng_chen/Downloads/getFieldsCountPerCountry/fields/*.json\"\n",
    "grower_dir = \"/Users/sheng_chen/Downloads/getFieldsCountPerCountry/growers/*.json\""
   ]
  },
  {
   "cell_type": "code",
   "execution_count": 148,
   "metadata": {},
   "outputs": [],
   "source": [
    "# Read all data files and store as dataframes\n",
    "countries = sqlContext.read.json(country_dir)\n",
    "fields = sqlContext.read.json(fields_dir)\n",
    "growers = sqlContext.read.json(grower_dir)"
   ]
  },
  {
   "cell_type": "code",
   "execution_count": 149,
   "metadata": {},
   "outputs": [],
   "source": [
    "# Select the columns we are interested in\n",
    "countries = countries.select('country.id','country.alpha3')\n",
    "fields = fields.select('field.associations.`agrian.grower`').toDF('id')\n",
    "growers = growers.select('grower.id','grower.address.country_id')"
   ]
  },
  {
   "cell_type": "code",
   "execution_count": 150,
   "metadata": {},
   "outputs": [
    {
     "name": "stdout",
     "output_type": "stream",
     "text": [
      "+-------+-----+\n",
      "|Country|Count|\n",
      "+-------+-----+\n",
      "|    USA|    4|\n",
      "| CANADA|    1|\n",
      "+-------+-----+\n",
      "\n"
     ]
    }
   ],
   "source": [
    "# (Here we assume if a field has multiple growers, the first grower's country is representing of the field)\n",
    "# Join growers and fields by grower ID\n",
    "s = fields.join(growers, growers.id==fields.id[0]).select('country_id')\n",
    "# Join countries and result from previous step, group by country name, show counts, and sort by descending count.\n",
    "s = countries.join(s, s.country_id==countries.id).groupby('alpha3').count().sort(desc(\"count\")).toDF(\"Country\",\"Count\").show()"
   ]
  }
 ],
 "metadata": {
  "kernelspec": {
   "display_name": "Python 3",
   "language": "python",
   "name": "python3"
  },
  "language_info": {
   "codemirror_mode": {
    "name": "ipython",
    "version": 3
   },
   "file_extension": ".py",
   "mimetype": "text/x-python",
   "name": "python",
   "nbconvert_exporter": "python",
   "pygments_lexer": "ipython3",
   "version": "3.6.5"
  }
 },
 "nbformat": 4,
 "nbformat_minor": 2
}
