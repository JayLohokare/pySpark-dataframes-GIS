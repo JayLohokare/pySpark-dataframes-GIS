{
 "cells": [
  {
   "cell_type": "code",
   "execution_count": null,
   "metadata": {},
   "outputs": [],
   "source": [
    "from gmplot import gmplot\n",
    "import os"
   ]
  },
  {
   "cell_type": "code",
   "execution_count": null,
   "metadata": {},
   "outputs": [],
   "source": [
    "gmap = gmplot.GoogleMapPlotter(39.95238555325807,  -77.99195677041001 ,13)"
   ]
  },
  {
   "cell_type": "code",
   "execution_count": null,
   "metadata": {},
   "outputs": [],
   "source": [
    "poly = []\n",
    "for filename in os.listdir('/Users/jay_lohokare/Desktop/maps'):\n",
    "     if filename[-3:] == \"csv\":\n",
    "            f = open( '/Users/jay_lohokare/Desktop/maps/' + filename , 'r' )\n",
    "            line = f.readline()\n",
    "            while line :\n",
    "                poly.append(line)\n",
    "                line = f.readline()\n",
    "            f.close()"
   ]
  },
  {
   "cell_type": "code",
   "execution_count": null,
   "metadata": {},
   "outputs": [],
   "source": [
    "for i in range(len(poly)):\n",
    "    poly[i] = poly[i][17:-6]"
   ]
  },
  {
   "cell_type": "code",
   "execution_count": null,
   "metadata": {},
   "outputs": [],
   "source": [
    "for i in range(len(poly)):\n",
    "    poly[i] = poly[i].split(',')"
   ]
  },
  {
   "cell_type": "code",
   "execution_count": null,
   "metadata": {},
   "outputs": [],
   "source": [
    "print poly[0]"
   ]
  },
  {
   "cell_type": "code",
   "execution_count": null,
   "metadata": {},
   "outputs": [],
   "source": [
    "out = []\n",
    "for i in range(len(poly)):\n",
    "    outi = []\n",
    "    try:\n",
    "        for j in range(len(poly[i])):\n",
    "            poly[i][j] = poly[i][j].rstrip().lstrip()\n",
    "            poly[i][j] = poly[i][j].split(' ')\n",
    "            try:\n",
    "                outi.append((float((poly[i][j][0])), float((poly[i][j][1]))))\n",
    "            except:\n",
    "                break\n",
    "        out.append(outi)\n",
    "        \n",
    "    except:\n",
    "        continue"
   ]
  },
  {
   "cell_type": "code",
   "execution_count": null,
   "metadata": {},
   "outputs": [],
   "source": [
    "for i in range(len(out)):\n",
    "    try:\n",
    "        lats, lons = zip(*out[i])\n",
    "        gmap.plot(lons, lats, 'cornflowerblue', edge_width=4)\n",
    "    except:\n",
    "        continue"
   ]
  },
  {
   "cell_type": "code",
   "execution_count": null,
   "metadata": {},
   "outputs": [],
   "source": [
    "gmap.draw(\"Desktop/my_map.html\")"
   ]
  }
 ],
 "metadata": {
  "kernelspec": {
   "display_name": "Python 2",
   "language": "python",
   "name": "python2"
  },
  "language_info": {
   "codemirror_mode": {
    "name": "ipython",
    "version": 2
   },
   "file_extension": ".py",
   "mimetype": "text/x-python",
   "name": "python",
   "nbconvert_exporter": "python",
   "pygments_lexer": "ipython2",
   "version": "2.7.15"
  }
 },
 "nbformat": 4,
 "nbformat_minor": 2
}
