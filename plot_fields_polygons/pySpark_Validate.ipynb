{
 "cells": [
  {
   "cell_type": "code",
   "execution_count": null,
   "metadata": {},
   "outputs": [],
   "source": [
    "sqlContext = SQLContext(sc)"
   ]
  },
  {
   "cell_type": "code",
   "execution_count": null,
   "metadata": {},
   "outputs": [],
   "source": [
    "#Load entire data from HDFS as dataframes\n",
    "grower = sqlContext.read.json(\"/Users/jay_lohokare/Desktop/data/grower/*.json\")\n",
    "farms = sqlContext.read.json(\"/Users/jay_lohokare/Desktop/data/farms/*.json\")\n",
    "fields = sqlContext.read.json(\"/Users/jay_lohokare/Desktop/data/fields_min/*.json\")"
   ]
  },
  {
   "cell_type": "code",
   "execution_count": null,
   "metadata": {},
   "outputs": [],
   "source": [
    "#Print data schema\n",
    "grower_Head = grower.printSchema()\n",
    "field_head = fields.printSchema()\n",
    "farm_head = farms.printSchema()"
   ]
  },
  {
   "cell_type": "code",
   "execution_count": 86,
   "metadata": {},
   "outputs": [],
   "source": [
    "#Using minified data\n",
    "farms = sqlContext.read.json(\"/Users/jay_lohokare/Desktop/data/farms_min/*.json\")\n",
    "fields = sqlContext.read.json(\"/Users/jay_lohokare/Desktop/data/fields_min/*.json\")\n",
    "growers = sqlContext.read.json(\"/Users/jay_lohokare/Desktop/data/grower_min/*.json\")"
   ]
  },
  {
   "cell_type": "code",
   "execution_count": 82,
   "metadata": {},
   "outputs": [
    {
     "name": "stdout",
     "output_type": "stream",
     "text": [
      "100\n",
      "100\n",
      "100\n"
     ]
    }
   ],
   "source": [
    "print(farms.count())\n",
    "print(fields.count())\n",
    "print(growers.count())"
   ]
  },
  {
   "cell_type": "code",
   "execution_count": 83,
   "metadata": {},
   "outputs": [
    {
     "name": "stdout",
     "output_type": "stream",
     "text": [
      "74\n",
      "78\n",
      "85\n"
     ]
    }
   ],
   "source": [
    "farms = farms.filter(\"farm.deleted_at is  NULL\")\n",
    "fields = fields.filter(\"field.deleted_at is  NULL\")\n",
    "growers = growers.filter(\"grower.deleted_at is  NULL\")\n",
    "print farms.count()\n",
    "print fields.count()\n",
    "print growers.count()"
   ]
  },
  {
   "cell_type": "code",
   "execution_count": 84,
   "metadata": {},
   "outputs": [],
   "source": []
  },
  {
   "cell_type": "code",
   "execution_count": 123,
   "metadata": {},
   "outputs": [],
   "source": [
    "#Getting fields MultiPolygon data\n",
    "fields = sqlContext.read.json(\"/Users/jay_lohokare/Desktop/data/fields_min/*.json\")\n",
    "fields_poly = fields.select(\"field.boundary_map.boundary\")\n",
    "fields_poly.write.format(\"csv\").save(\"/Users/jay_lohokare/Desktop/maps\")"
   ]
  },
  {
   "cell_type": "code",
   "execution_count": 116,
   "metadata": {},
   "outputs": [],
   "source": []
  },
  {
   "cell_type": "code",
   "execution_count": null,
   "metadata": {},
   "outputs": [],
   "source": []
  },
  {
   "cell_type": "code",
   "execution_count": null,
   "metadata": {},
   "outputs": [],
   "source": []
  }
 ],
 "metadata": {
  "kernelspec": {
   "display_name": "Python 2",
   "language": "python",
   "name": "python2"
  },
  "language_info": {
   "codemirror_mode": {
    "name": "ipython",
    "version": 2
   },
   "file_extension": ".py",
   "mimetype": "text/x-python",
   "name": "python",
   "nbconvert_exporter": "python",
   "pygments_lexer": "ipython2",
   "version": "2.7.15"
  }
 },
 "nbformat": 4,
 "nbformat_minor": 2
}
